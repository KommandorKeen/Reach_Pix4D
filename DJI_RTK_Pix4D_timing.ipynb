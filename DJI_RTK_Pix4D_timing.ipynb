{
 "cells": [
  {
   "cell_type": "code",
   "execution_count": 54,
   "metadata": {
    "collapsed": false
   },
   "outputs": [],
   "source": [
    "# Copyright Spatial Analytics 2017\n",
    "# Use of this code is permitted only for the express purpose for which it was provided.\n",
    "# This is a Python 2.7 Script\n",
    "#\n",
    "# If you use this, or a derivative of it to make money, send a portion to the original author\n",
    "# At least let him know it was useful and what cool stuff you did. \n",
    "# simon.allen@spatialanalytics.com.au\n",
    "\n",
    "import pandas as pd\n",
    "import matplotlib\n",
    "import matplotlib.pyplot as plt\n",
    "import datetime as dt\n",
    "import numpy as np\n",
    "%matplotlib inline \n",
    "import os"
   ]
  },
  {
   "cell_type": "code",
   "execution_count": 59,
   "metadata": {
    "collapsed": false
   },
   "outputs": [],
   "source": [
    "#script expects images in a directory called images in a project directory under a base directory location\n",
    "#images will be basedirectory + projectname + images\n",
    "#all other files (input and output) should be in the project directory\n",
    "basedirectory = 'c:/Users/Simon/'\n",
    "projectname = 'Temp'\n",
    "Pix4D_filename = 'mission.pix4dcapture-mission'\n",
    "PPK_filename = 'POS.pos'\n",
    "imagepath = basedirectory+projectname+'/images/'\n",
    "\n",
    "\n"
   ]
  },
  {
   "cell_type": "code",
   "execution_count": 44,
   "metadata": {
    "collapsed": false
   },
   "outputs": [],
   "source": [
    "#Works with Pix4D capture october 2017\n",
    "\n",
    "\n",
    "df_pix4D = pd.read_json(basedirectory+projectname+'/'+Pix4D_filename, typ = 'series')\n",
    "\n",
    "\n",
    "\n",
    "images_json = df_pix4D['actual']['photos']"
   ]
  },
  {
   "cell_type": "code",
   "execution_count": 7,
   "metadata": {
    "collapsed": false
   },
   "outputs": [],
   "source": [
    "from pandas.io.json import json_normalize\n",
    "almost_drone = json_normalize(images_json)\n"
   ]
  },
  {
   "cell_type": "code",
   "execution_count": 8,
   "metadata": {
    "collapsed": false
   },
   "outputs": [],
   "source": [
    "drone_time = almost_drone['mediaDescriptor.mediaMetaData.timeCreated']\n"
   ]
  },
  {
   "cell_type": "code",
   "execution_count": 9,
   "metadata": {
    "collapsed": false
   },
   "outputs": [],
   "source": [
    "drone_positions = almost_drone['pose.location']\n"
   ]
  },
  {
   "cell_type": "code",
   "execution_count": 10,
   "metadata": {
    "collapsed": false
   },
   "outputs": [],
   "source": [
    "drone_lon, drone_lat,drone_alt = zip(*drone_positions)\n"
   ]
  },
  {
   "cell_type": "code",
   "execution_count": 11,
   "metadata": {
    "collapsed": false
   },
   "outputs": [],
   "source": [
    "drone_images = almost_drone['mediaDescriptor.mediaId']\n"
   ]
  },
  {
   "cell_type": "code",
   "execution_count": 12,
   "metadata": {
    "collapsed": false
   },
   "outputs": [],
   "source": [
    "drone_milliseconds = almost_drone['pose.time']\n"
   ]
  },
  {
   "cell_type": "code",
   "execution_count": 13,
   "metadata": {
    "collapsed": false
   },
   "outputs": [],
   "source": [
    "drone = pd.DataFrame({'time_sec' : drone_milliseconds,\n",
    "                       'rel_alt' : drone_alt,\n",
    "                       'drone_lon' : drone_lon,\n",
    "                       'drone_lat' : drone_lat,\n",
    "                       'evnt': drone_images,\n",
    "                       'local_time': drone_time\n",
    "                      })\n",
    "\n",
    "\n",
    "#df_drone = pd.DataFrame(('','','drone_lon','drone_lat','drone_images','drone_time'))"
   ]
  },
  {
   "cell_type": "code",
   "execution_count": 14,
   "metadata": {
    "collapsed": false
   },
   "outputs": [
    {
     "data": {
      "text/html": [
       "<div>\n",
       "<style>\n",
       "    .dataframe thead tr:only-child th {\n",
       "        text-align: right;\n",
       "    }\n",
       "\n",
       "    .dataframe thead th {\n",
       "        text-align: left;\n",
       "    }\n",
       "\n",
       "    .dataframe tbody tr th {\n",
       "        vertical-align: top;\n",
       "    }\n",
       "</style>\n",
       "<table border=\"1\" class=\"dataframe\">\n",
       "  <thead>\n",
       "    <tr style=\"text-align: right;\">\n",
       "      <th></th>\n",
       "      <th>drone_lat</th>\n",
       "      <th>drone_lon</th>\n",
       "      <th>evnt</th>\n",
       "      <th>local_time</th>\n",
       "      <th>rel_alt</th>\n",
       "      <th>time_sec</th>\n",
       "    </tr>\n",
       "  </thead>\n",
       "  <tbody>\n",
       "    <tr>\n",
       "      <th>0</th>\n",
       "      <td>-42.880718</td>\n",
       "      <td>147.397564</td>\n",
       "      <td>DJI_0979.jpg</td>\n",
       "      <td>2017-10-23 14:44:24</td>\n",
       "      <td>49.6</td>\n",
       "      <td>1.508730e+09</td>\n",
       "    </tr>\n",
       "    <tr>\n",
       "      <th>1</th>\n",
       "      <td>-42.880866</td>\n",
       "      <td>147.397502</td>\n",
       "      <td>DJI_0980.jpg</td>\n",
       "      <td>2017-10-23 14:44:34</td>\n",
       "      <td>50.0</td>\n",
       "      <td>1.508730e+09</td>\n",
       "    </tr>\n",
       "    <tr>\n",
       "      <th>2</th>\n",
       "      <td>-42.880984</td>\n",
       "      <td>147.397454</td>\n",
       "      <td>DJI_0981.jpg</td>\n",
       "      <td>2017-10-23 14:44:36</td>\n",
       "      <td>49.9</td>\n",
       "      <td>1.508730e+09</td>\n",
       "    </tr>\n",
       "    <tr>\n",
       "      <th>3</th>\n",
       "      <td>-42.881113</td>\n",
       "      <td>147.397403</td>\n",
       "      <td>DJI_0982.jpg</td>\n",
       "      <td>2017-10-23 14:44:40</td>\n",
       "      <td>49.9</td>\n",
       "      <td>1.508730e+09</td>\n",
       "    </tr>\n",
       "    <tr>\n",
       "      <th>4</th>\n",
       "      <td>-42.881088</td>\n",
       "      <td>147.397268</td>\n",
       "      <td>DJI_0983.jpg</td>\n",
       "      <td>2017-10-23 14:44:50</td>\n",
       "      <td>49.8</td>\n",
       "      <td>1.508730e+09</td>\n",
       "    </tr>\n",
       "  </tbody>\n",
       "</table>\n",
       "</div>"
      ],
      "text/plain": [
       "   drone_lat   drone_lon          evnt           local_time  rel_alt  \\\n",
       "0 -42.880718  147.397564  DJI_0979.jpg  2017-10-23 14:44:24     49.6   \n",
       "1 -42.880866  147.397502  DJI_0980.jpg  2017-10-23 14:44:34     50.0   \n",
       "2 -42.880984  147.397454  DJI_0981.jpg  2017-10-23 14:44:36     49.9   \n",
       "3 -42.881113  147.397403  DJI_0982.jpg  2017-10-23 14:44:40     49.9   \n",
       "4 -42.881088  147.397268  DJI_0983.jpg  2017-10-23 14:44:50     49.8   \n",
       "\n",
       "       time_sec  \n",
       "0  1.508730e+09  \n",
       "1  1.508730e+09  \n",
       "2  1.508730e+09  \n",
       "3  1.508730e+09  \n",
       "4  1.508730e+09  "
      ]
     },
     "execution_count": 14,
     "metadata": {},
     "output_type": "execute_result"
    }
   ],
   "source": [
    "drone.head()"
   ]
  },
  {
   "cell_type": "code",
   "execution_count": 15,
   "metadata": {
    "collapsed": true
   },
   "outputs": [],
   "source": [
    "# Pix4D have a habit of changing the descriptors as they think of more things to add. \n",
    "# above you have the raw image data, it is a rich source of useful stuff that I currently don't use.\n",
    "# I just extract the bits needed (for the moment)\n",
    "# Of course this script could be messed up at any time by Pix4D changing the format of the file.\n"
   ]
  },
  {
   "cell_type": "code",
   "execution_count": null,
   "metadata": {
    "collapsed": false
   },
   "outputs": [],
   "source": []
  },
  {
   "cell_type": "code",
   "execution_count": 16,
   "metadata": {
    "collapsed": false
   },
   "outputs": [
    {
     "name": "stdout",
     "output_type": "stream",
     "text": [
      "('number of images =', 27, ' with timing ', 27)\n"
     ]
    }
   ],
   "source": [
    "#sometimes Pix4Dcapture fails to assign a time to an image!\n",
    "#remove those images :-(\n",
    "\n",
    "num_images = drone['rel_alt'].describe()['count']\n",
    "drone2 = drone.loc[drone['time_sec']<>0]\n",
    "num_images_time = drone2['rel_alt'].describe()['count']\n",
    "\n",
    "print('number of images =',int(num_images),' with timing ', int(num_images_time))\n",
    "\n"
   ]
  },
  {
   "cell_type": "code",
   "execution_count": 18,
   "metadata": {
    "collapsed": false
   },
   "outputs": [],
   "source": [
    "\n",
    "drone2['new_time'] = dt.datetime(1970,1,1)+pd.to_timedelta(drone2['time_sec'], unit='s')"
   ]
  },
  {
   "cell_type": "code",
   "execution_count": 19,
   "metadata": {
    "collapsed": false
   },
   "outputs": [
    {
     "data": {
      "text/html": [
       "<div>\n",
       "<style>\n",
       "    .dataframe thead tr:only-child th {\n",
       "        text-align: right;\n",
       "    }\n",
       "\n",
       "    .dataframe thead th {\n",
       "        text-align: left;\n",
       "    }\n",
       "\n",
       "    .dataframe tbody tr th {\n",
       "        vertical-align: top;\n",
       "    }\n",
       "</style>\n",
       "<table border=\"1\" class=\"dataframe\">\n",
       "  <thead>\n",
       "    <tr style=\"text-align: right;\">\n",
       "      <th></th>\n",
       "      <th>drone_lat</th>\n",
       "      <th>drone_lon</th>\n",
       "      <th>evnt</th>\n",
       "      <th>local_time</th>\n",
       "      <th>rel_alt</th>\n",
       "      <th>time_sec</th>\n",
       "      <th>new_time</th>\n",
       "    </tr>\n",
       "  </thead>\n",
       "  <tbody>\n",
       "    <tr>\n",
       "      <th>0</th>\n",
       "      <td>-42.880718</td>\n",
       "      <td>147.397564</td>\n",
       "      <td>DJI_0979.jpg</td>\n",
       "      <td>2017-10-23 14:44:24</td>\n",
       "      <td>49.6</td>\n",
       "      <td>1.508730e+09</td>\n",
       "      <td>2017-10-23 03:44:25.426307</td>\n",
       "    </tr>\n",
       "    <tr>\n",
       "      <th>1</th>\n",
       "      <td>-42.880866</td>\n",
       "      <td>147.397502</td>\n",
       "      <td>DJI_0980.jpg</td>\n",
       "      <td>2017-10-23 14:44:34</td>\n",
       "      <td>50.0</td>\n",
       "      <td>1.508730e+09</td>\n",
       "      <td>2017-10-23 03:44:34.326682</td>\n",
       "    </tr>\n",
       "    <tr>\n",
       "      <th>2</th>\n",
       "      <td>-42.880984</td>\n",
       "      <td>147.397454</td>\n",
       "      <td>DJI_0981.jpg</td>\n",
       "      <td>2017-10-23 14:44:36</td>\n",
       "      <td>49.9</td>\n",
       "      <td>1.508730e+09</td>\n",
       "      <td>2017-10-23 03:44:36.842951</td>\n",
       "    </tr>\n",
       "  </tbody>\n",
       "</table>\n",
       "</div>"
      ],
      "text/plain": [
       "   drone_lat   drone_lon          evnt           local_time  rel_alt  \\\n",
       "0 -42.880718  147.397564  DJI_0979.jpg  2017-10-23 14:44:24     49.6   \n",
       "1 -42.880866  147.397502  DJI_0980.jpg  2017-10-23 14:44:34     50.0   \n",
       "2 -42.880984  147.397454  DJI_0981.jpg  2017-10-23 14:44:36     49.9   \n",
       "\n",
       "       time_sec                   new_time  \n",
       "0  1.508730e+09 2017-10-23 03:44:25.426307  \n",
       "1  1.508730e+09 2017-10-23 03:44:34.326682  \n",
       "2  1.508730e+09 2017-10-23 03:44:36.842951  "
      ]
     },
     "execution_count": 19,
     "metadata": {},
     "output_type": "execute_result"
    }
   ],
   "source": [
    "drone2.head(3)"
   ]
  },
  {
   "cell_type": "code",
   "execution_count": 45,
   "metadata": {
    "collapsed": false,
    "scrolled": true
   },
   "outputs": [],
   "source": [
    "#import PPK assumes you used the LLH format with the header turned on\n",
    "\n",
    "filename = basedirectory+projectname+'/'+PPK_filename\n",
    "columns = [ 0,1,2,3,4,5,6,7,8,9]\n",
    "column_names = ['rtk_date','utc', 'rtk_lat','rtk_lon','rtk_alt','Q','num_sat','sd_n','sd_e','sd_u']\n",
    "rtk = pd.read_csv(filename,skiprows=26,\n",
    "                  delim_whitespace=1,\n",
    "                  usecols=columns,\n",
    "                  names=column_names,\n",
    "                  parse_dates=[['rtk_date','utc']]\n",
    "                  )\n"
   ]
  },
  {
   "cell_type": "code",
   "execution_count": 46,
   "metadata": {
    "collapsed": false
   },
   "outputs": [
    {
     "data": {
      "text/html": [
       "<div>\n",
       "<style>\n",
       "    .dataframe thead tr:only-child th {\n",
       "        text-align: right;\n",
       "    }\n",
       "\n",
       "    .dataframe thead th {\n",
       "        text-align: left;\n",
       "    }\n",
       "\n",
       "    .dataframe tbody tr th {\n",
       "        vertical-align: top;\n",
       "    }\n",
       "</style>\n",
       "<table border=\"1\" class=\"dataframe\">\n",
       "  <thead>\n",
       "    <tr style=\"text-align: right;\">\n",
       "      <th></th>\n",
       "      <th>rtk_date_utc</th>\n",
       "      <th>rtk_lat</th>\n",
       "      <th>rtk_lon</th>\n",
       "      <th>rtk_alt</th>\n",
       "      <th>Q</th>\n",
       "      <th>num_sat</th>\n",
       "      <th>sd_n</th>\n",
       "      <th>sd_e</th>\n",
       "      <th>sd_u</th>\n",
       "    </tr>\n",
       "  </thead>\n",
       "  <tbody>\n",
       "    <tr>\n",
       "      <th>0</th>\n",
       "      <td>2017-10-23 03:33:39.400</td>\n",
       "      <td>-42.880585</td>\n",
       "      <td>147.397309</td>\n",
       "      <td>24.4440</td>\n",
       "      <td>2</td>\n",
       "      <td>8</td>\n",
       "      <td>0.6936</td>\n",
       "      <td>0.5560</td>\n",
       "      <td>1.6646</td>\n",
       "    </tr>\n",
       "    <tr>\n",
       "      <th>1</th>\n",
       "      <td>2017-10-23 03:33:39.600</td>\n",
       "      <td>-42.880593</td>\n",
       "      <td>147.397297</td>\n",
       "      <td>21.0959</td>\n",
       "      <td>2</td>\n",
       "      <td>8</td>\n",
       "      <td>0.4931</td>\n",
       "      <td>0.3956</td>\n",
       "      <td>1.1870</td>\n",
       "    </tr>\n",
       "    <tr>\n",
       "      <th>2</th>\n",
       "      <td>2017-10-23 03:33:39.800</td>\n",
       "      <td>-42.880601</td>\n",
       "      <td>147.397299</td>\n",
       "      <td>16.9691</td>\n",
       "      <td>2</td>\n",
       "      <td>9</td>\n",
       "      <td>0.3932</td>\n",
       "      <td>0.3183</td>\n",
       "      <td>0.9459</td>\n",
       "    </tr>\n",
       "  </tbody>\n",
       "</table>\n",
       "</div>"
      ],
      "text/plain": [
       "             rtk_date_utc    rtk_lat     rtk_lon  rtk_alt  Q  num_sat    sd_n  \\\n",
       "0 2017-10-23 03:33:39.400 -42.880585  147.397309  24.4440  2        8  0.6936   \n",
       "1 2017-10-23 03:33:39.600 -42.880593  147.397297  21.0959  2        8  0.4931   \n",
       "2 2017-10-23 03:33:39.800 -42.880601  147.397299  16.9691  2        9  0.3932   \n",
       "\n",
       "     sd_e    sd_u  \n",
       "0  0.5560  1.6646  \n",
       "1  0.3956  1.1870  \n",
       "2  0.3183  0.9459  "
      ]
     },
     "execution_count": 46,
     "metadata": {},
     "output_type": "execute_result"
    }
   ],
   "source": [
    "rtk.head(3)"
   ]
  },
  {
   "cell_type": "code",
   "execution_count": 28,
   "metadata": {
    "collapsed": false
   },
   "outputs": [
    {
     "data": {
      "image/png": "[encoded data removed]",
      "text/plain": [
       "<matplotlib.figure.Figure at 0x1137e320>"
      ]
     },
     "metadata": {},
     "output_type": "display_data"
    }
   ],
   "source": [
    "rtk.plot.scatter(x='rtk_lon',y='rtk_lat',style ='.')\n",
    "plt.axis((rtk['rtk_lon'].min(),\n",
    "          rtk['rtk_lon'].max(),\n",
    "          rtk['rtk_lat'].min(),\n",
    "          rtk['rtk_lat'].max()))\n",
    "plt.show()"
   ]
  },
  {
   "cell_type": "code",
   "execution_count": 30,
   "metadata": {
    "collapsed": false
   },
   "outputs": [],
   "source": [
    "\n",
    "drone2['drone_date_utc'] = drone2['new_time']"
   ]
  },
  {
   "cell_type": "code",
   "execution_count": 31,
   "metadata": {
    "collapsed": false
   },
   "outputs": [
    {
     "data": {
      "text/html": [
       "<div>\n",
       "<style>\n",
       "    .dataframe thead tr:only-child th {\n",
       "        text-align: right;\n",
       "    }\n",
       "\n",
       "    .dataframe thead th {\n",
       "        text-align: left;\n",
       "    }\n",
       "\n",
       "    .dataframe tbody tr th {\n",
       "        vertical-align: top;\n",
       "    }\n",
       "</style>\n",
       "<table border=\"1\" class=\"dataframe\">\n",
       "  <thead>\n",
       "    <tr style=\"text-align: right;\">\n",
       "      <th></th>\n",
       "      <th>drone_lat</th>\n",
       "      <th>drone_lon</th>\n",
       "      <th>evnt</th>\n",
       "      <th>local_time</th>\n",
       "      <th>rel_alt</th>\n",
       "      <th>time_sec</th>\n",
       "      <th>new_time</th>\n",
       "      <th>drone_date_utc</th>\n",
       "    </tr>\n",
       "  </thead>\n",
       "  <tbody>\n",
       "    <tr>\n",
       "      <th>0</th>\n",
       "      <td>-42.880718</td>\n",
       "      <td>147.397564</td>\n",
       "      <td>DJI_0979.jpg</td>\n",
       "      <td>2017-10-23 14:44:24</td>\n",
       "      <td>49.6</td>\n",
       "      <td>1.508730e+09</td>\n",
       "      <td>2017-10-23 03:44:25.426307</td>\n",
       "      <td>2017-10-23 03:44:25.426307</td>\n",
       "    </tr>\n",
       "    <tr>\n",
       "      <th>1</th>\n",
       "      <td>-42.880866</td>\n",
       "      <td>147.397502</td>\n",
       "      <td>DJI_0980.jpg</td>\n",
       "      <td>2017-10-23 14:44:34</td>\n",
       "      <td>50.0</td>\n",
       "      <td>1.508730e+09</td>\n",
       "      <td>2017-10-23 03:44:34.326682</td>\n",
       "      <td>2017-10-23 03:44:34.326682</td>\n",
       "    </tr>\n",
       "    <tr>\n",
       "      <th>2</th>\n",
       "      <td>-42.880984</td>\n",
       "      <td>147.397454</td>\n",
       "      <td>DJI_0981.jpg</td>\n",
       "      <td>2017-10-23 14:44:36</td>\n",
       "      <td>49.9</td>\n",
       "      <td>1.508730e+09</td>\n",
       "      <td>2017-10-23 03:44:36.842951</td>\n",
       "      <td>2017-10-23 03:44:36.842951</td>\n",
       "    </tr>\n",
       "    <tr>\n",
       "      <th>3</th>\n",
       "      <td>-42.881113</td>\n",
       "      <td>147.397403</td>\n",
       "      <td>DJI_0982.jpg</td>\n",
       "      <td>2017-10-23 14:44:40</td>\n",
       "      <td>49.9</td>\n",
       "      <td>1.508730e+09</td>\n",
       "      <td>2017-10-23 03:44:41.127383</td>\n",
       "      <td>2017-10-23 03:44:41.127383</td>\n",
       "    </tr>\n",
       "    <tr>\n",
       "      <th>4</th>\n",
       "      <td>-42.881088</td>\n",
       "      <td>147.397268</td>\n",
       "      <td>DJI_0983.jpg</td>\n",
       "      <td>2017-10-23 14:44:50</td>\n",
       "      <td>49.8</td>\n",
       "      <td>1.508730e+09</td>\n",
       "      <td>2017-10-23 03:44:50.327494</td>\n",
       "      <td>2017-10-23 03:44:50.327494</td>\n",
       "    </tr>\n",
       "  </tbody>\n",
       "</table>\n",
       "</div>"
      ],
      "text/plain": [
       "   drone_lat   drone_lon          evnt           local_time  rel_alt  \\\n",
       "0 -42.880718  147.397564  DJI_0979.jpg  2017-10-23 14:44:24     49.6   \n",
       "1 -42.880866  147.397502  DJI_0980.jpg  2017-10-23 14:44:34     50.0   \n",
       "2 -42.880984  147.397454  DJI_0981.jpg  2017-10-23 14:44:36     49.9   \n",
       "3 -42.881113  147.397403  DJI_0982.jpg  2017-10-23 14:44:40     49.9   \n",
       "4 -42.881088  147.397268  DJI_0983.jpg  2017-10-23 14:44:50     49.8   \n",
       "\n",
       "       time_sec                   new_time             drone_date_utc  \n",
       "0  1.508730e+09 2017-10-23 03:44:25.426307 2017-10-23 03:44:25.426307  \n",
       "1  1.508730e+09 2017-10-23 03:44:34.326682 2017-10-23 03:44:34.326682  \n",
       "2  1.508730e+09 2017-10-23 03:44:36.842951 2017-10-23 03:44:36.842951  \n",
       "3  1.508730e+09 2017-10-23 03:44:41.127383 2017-10-23 03:44:41.127383  \n",
       "4  1.508730e+09 2017-10-23 03:44:50.327494 2017-10-23 03:44:50.327494  "
      ]
     },
     "execution_count": 31,
     "metadata": {},
     "output_type": "execute_result"
    }
   ],
   "source": [
    "drone2.head()\n"
   ]
  },
  {
   "cell_type": "code",
   "execution_count": 32,
   "metadata": {
    "collapsed": false
   },
   "outputs": [],
   "source": [
    "#Now I need to index the dataframes by their datetime columns\n",
    "drone_utc = drone2.set_index('drone_date_utc')"
   ]
  },
  {
   "cell_type": "code",
   "execution_count": 33,
   "metadata": {
    "collapsed": true
   },
   "outputs": [],
   "source": [
    "rtk_utc = rtk.set_index('rtk_date_utc')"
   ]
  },
  {
   "cell_type": "code",
   "execution_count": 34,
   "metadata": {
    "collapsed": false,
    "scrolled": true
   },
   "outputs": [],
   "source": [
    "merged_data = pd.merge(drone_utc,rtk_utc,how='outer',left_index=True, right_index=True)\n"
   ]
  },
  {
   "cell_type": "code",
   "execution_count": 35,
   "metadata": {
    "collapsed": false
   },
   "outputs": [
    {
     "data": {
      "image/png": "[encoded data removed]",
      "text/plain": [
       "<matplotlib.figure.Figure at 0x10ae0908>"
      ]
     },
     "metadata": {},
     "output_type": "display_data"
    }
   ],
   "source": [
    "merged_data[['rtk_lon','drone_lon']][3:].plot(style ='.')\n",
    "plt.show()"
   ]
  },
  {
   "cell_type": "code",
   "execution_count": 36,
   "metadata": {
    "collapsed": false
   },
   "outputs": [
    {
     "data": {
      "image/png": "[encoded data removed]",
      "text/plain": [
       "<matplotlib.figure.Figure at 0x13e9feb8>"
      ]
     },
     "metadata": {},
     "output_type": "display_data"
    }
   ],
   "source": [
    "merged_data[['rtk_lat','drone_lat']][3:].plot(style ='.')\n",
    "plt.show()"
   ]
  },
  {
   "cell_type": "code",
   "execution_count": 37,
   "metadata": {
    "collapsed": false
   },
   "outputs": [],
   "source": [
    "merged_data['drone_rtk_lat'] = merged_data['rtk_lat'].interpolate(method='linear')\n",
    "merged_data['drone_rtk_lon'] = merged_data['rtk_lon'].interpolate(method='linear')\n",
    "merged_data['drone_rtk_alt'] = merged_data['rtk_alt'].interpolate(method='linear')\n",
    "# if you want more fields brought through to the final final just add more lines here"
   ]
  },
  {
   "cell_type": "code",
   "execution_count": 38,
   "metadata": {
    "collapsed": false
   },
   "outputs": [
    {
     "data": {
      "image/png": "[encoded data removed]",
      "text/plain": [
       "<matplotlib.figure.Figure at 0x13d59320>"
      ]
     },
     "metadata": {},
     "output_type": "display_data"
    }
   ],
   "source": [
    "plt.figure(figsize=(15,5))\n",
    "merged_data['rel_alt'][4:].plot(style = '.', label = 'DJI alt')\n",
    "merged_data['rtk_alt'][4:].plot(style = '.', label = 'RTK alt')\n",
    "plt.legend(loc='upper left')\n",
    "plt.title(\"Altitude DJI vs RTK\")\n",
    "plt.xlabel(\"Flight time\")\n",
    "plt.ylabel(\"Altitude - metres\")\n",
    "plt.show()"
   ]
  },
  {
   "cell_type": "code",
   "execution_count": 39,
   "metadata": {
    "collapsed": false
   },
   "outputs": [
    {
     "data": {
      "text/plain": [
       "11.7667"
      ]
     },
     "execution_count": 39,
     "metadata": {},
     "output_type": "execute_result"
    }
   ],
   "source": [
    "#get the ground altitude from the modal value of the rtk data\n",
    "ground_alt = merged_data['rtk_alt'].mode()[0]\n",
    "ground_alt"
   ]
  },
  {
   "cell_type": "code",
   "execution_count": 40,
   "metadata": {
    "collapsed": false
   },
   "outputs": [],
   "source": [
    "#if you want to export all the data merged do so now.\n",
    "#merged_data.to_csv(projectname+'_alldata.csv')"
   ]
  },
  {
   "cell_type": "code",
   "execution_count": 41,
   "metadata": {
    "collapsed": false
   },
   "outputs": [],
   "source": [
    "#get rid of all the PPK data with no photos and the empty fields\n",
    "reduced = merged_data.loc[merged_data['time_sec'].notnull()]\n",
    "compacted = reduced[['new_time','drone_rtk_lat','drone_rtk_lon','drone_rtk_alt','drone_lat','drone_lon','rel_alt','evnt']]\n"
   ]
  },
  {
   "cell_type": "code",
   "execution_count": null,
   "metadata": {
    "collapsed": false
   },
   "outputs": [],
   "source": []
  },
  {
   "cell_type": "code",
   "execution_count": 49,
   "metadata": {
    "collapsed": false
   },
   "outputs": [],
   "source": [
    "#Save\n",
    "compacted.to_csv(basedirectory+projectname+'/'+projectname+'_images.csv')"
   ]
  },
  {
   "cell_type": "code",
   "execution_count": 50,
   "metadata": {
    "collapsed": false
   },
   "outputs": [
    {
     "name": "stderr",
     "output_type": "stream",
     "text": [
      "C:\\Users\\Simon\\Anaconda2\\lib\\site-packages\\ipykernel\\__main__.py:5: SettingWithCopyWarning: \n",
      "A value is trying to be set on a copy of a slice from a DataFrame.\n",
      "Try using .loc[row_indexer,col_indexer] = value instead\n",
      "\n",
      "See the caveats in the documentation: http://pandas.pydata.org/pandas-docs/stable/indexing.html#indexing-view-versus-copy\n",
      "C:\\Users\\Simon\\Anaconda2\\lib\\site-packages\\pandas\\core\\frame.py:2746: SettingWithCopyWarning: \n",
      "A value is trying to be set on a copy of a slice from a DataFrame\n",
      "\n",
      "See the caveats in the documentation: http://pandas.pydata.org/pandas-docs/stable/indexing.html#indexing-view-versus-copy\n",
      "  **kwargs)\n"
     ]
    }
   ],
   "source": [
    "#Convert to something to use in exiftool\n",
    "\n",
    "imagepath = basedirectory+projectname+'/images'\n",
    "for_exiftool = compacted[['evnt','drone_rtk_lat','drone_rtk_lon','drone_rtk_alt']]\n",
    "for_exiftool['evnt']=imagepath+'/'+for_exiftool['evnt']\n",
    "\n",
    "for_exiftool.rename(columns={'evnt' : 'SourceFile',\n",
    "                              'drone_rtk_lat' : 'GPSLatitude',\n",
    "                              'drone_rtk_lon' : 'GPSLongitude',\n",
    "                              'drone_rtk_alt' : 'GPSAltitude'},inplace=True)\n",
    "\n",
    "# Gives a 'poor code warning' but works"
   ]
  },
  {
   "cell_type": "code",
   "execution_count": null,
   "metadata": {
    "collapsed": false
   },
   "outputs": [],
   "source": []
  },
  {
   "cell_type": "code",
   "execution_count": 51,
   "metadata": {
    "collapsed": false
   },
   "outputs": [],
   "source": [
    "#Save\n",
    "for_exiftool[['SourceFile','GPSLatitude','GPSLongitude','GPSAltitude']].to_csv(basedirectory+projectname+'/'+projectname+'_exiftool.csv',index=False)"
   ]
  },
  {
   "cell_type": "code",
   "execution_count": 60,
   "metadata": {
    "collapsed": false
   },
   "outputs": [
    {
     "data": {
      "text/plain": [
       "'exiftool -csv=\"c:/Users/Simon/Temp_exiftool.csv\" c:/Users/Simon/Temp/images/'"
      ]
     },
     "execution_count": 60,
     "metadata": {},
     "output_type": "execute_result"
    }
   ],
   "source": [
    "# could call out to OS and run this but sometimes I work across systems and it is easier to just cut and paste command line\n",
    "\n",
    "EXIFtool_command = 'exiftool'+' -csv=\"'+basedirectory+projectname+'_exiftool.csv\" '+imagepath\n",
    "\n",
    "EXIFtool_command\n",
    "\n",
    "\n",
    "#  exiftool -csv=\"FILE GENERATED ABOVE\" /path/from/root/to/your/images"
   ]
  },
  {
   "cell_type": "code",
   "execution_count": 62,
   "metadata": {
    "collapsed": false
   },
   "outputs": [
    {
     "name": "stdout",
     "output_type": "stream",
     "text": [
      "image EXIF headers now contain RTK data, sort by date modified and look for files which were not modified\n"
     ]
    }
   ],
   "source": [
    "#biggest bug bear is capitalisation or not across file systems\n",
    "# if you have exiftool installed make sure the directory is right below and try this. status appears in the terminal/cmd window.\n",
    "\n",
    "EXIFtool_command = 'C:/progs/exiftool'+' -csv=\"'+basedirectory+projectname+'/'+projectname+'_exiftool.csv\" '+imagepath\n",
    "\n",
    "if os.system(EXIFtool_command)==0:\n",
    "    print('image EXIF headers now contain RTK data, sort by date modified and look for files which were not modified')\n",
    "else:\n",
    "    print('there appears to have been a problem')\n",
    "    \n"
   ]
  },
  {
   "cell_type": "code",
   "execution_count": null,
   "metadata": {
    "collapsed": true
   },
   "outputs": [],
   "source": []
  }
 ],
 "metadata": {
  "kernelspec": {
   "display_name": "Python 2",
   "language": "python",
   "name": "python2"
  },
  "language_info": {
   "codemirror_mode": {
    "name": "ipython",
    "version": 2
   },
   "file_extension": ".py",
   "mimetype": "text/x-python",
   "name": "python",
   "nbconvert_exporter": "python",
   "pygments_lexer": "ipython2",
   "version": "2.7.12"
  }
 },
 "nbformat": 4,
 "nbformat_minor": 0
}
